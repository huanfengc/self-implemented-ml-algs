{
 "cells": [
  {
   "cell_type": "markdown",
   "id": "0ccd033e",
   "metadata": {},
   "source": [
    "# Perceptron Algorithm"
   ]
  },
  {
   "cell_type": "code",
   "execution_count": null,
   "id": "c8db411c",
   "metadata": {},
   "outputs": [],
   "source": [
    "import numpy as np\n",
    "import math"
   ]
  },
  {
   "cell_type": "markdown",
   "id": "f6279e3b",
   "metadata": {},
   "source": [
    "Suppose there is no offset, i.e. $\\theta_{0}=0$, the perceptron algorithm can be implemented as follows:"
   ]
  },
  {
   "cell_type": "code",
   "execution_count": null,
   "id": "2c9cfd20",
   "metadata": {},
   "outputs": [],
   "source": [
    "def perceptron_no_offset(data: list, it: int, s: int) -> list:\n",
    "    \"\"\"\n",
    "    Args:\n",
    "        data: list of list, [[x, y], ...]\n",
    "        it: number of iterations\n",
    "        s: start of data points\n",
    "    Output:\n",
    "        theta\n",
    "    \"\"\"\n",
    "    \n",
    "    m, n = len(data), len(data[0][0])\n",
    "    theta = np.zeros((1, n))\n",
    "    mistakes = 0\n",
    "    \n",
    "    for t in range(it):\n",
    "        for i in range(m):\n",
    "            x, y = np.asarray(data[(i + s) % m][0]), np.asarray(data[(i + s) % m][1])\n",
    "            \n",
    "            print(\"Iteration #{}\".format(t + 1))\n",
    "            print(\"Data      #{}\".format(i))\n",
    "            print(\"x = {}, y = {}\".format(x, y))\n",
    "            print(\"theta = {}\".format(theta))\n",
    "            print(\"totoal mistakes = {}\".format(mistakes))\n",
    "            print(\"-------------------------------\\n\")\n",
    "            \n",
    "            if y * np.dot(theta, x) <= 0:\n",
    "                theta = theta + y * x\n",
    "                mistakes += 1\n",
    "                \n",
    "    return theta"
   ]
  },
  {
   "cell_type": "code",
   "execution_count": null,
   "id": "befca0d7",
   "metadata": {},
   "outputs": [],
   "source": [
    "data1 = [[[-1, -1], 1], [[1, 0], -1], [[-1, 10], 1]]\n",
    "perceptron_no_offset(data1, 5, 0)"
   ]
  },
  {
   "cell_type": "markdown",
   "id": "fd45248b",
   "metadata": {},
   "source": [
    "Include the offset $\\theta_{0}$ and initiailize the offset to 0, the implementation will be adjusted as follows:"
   ]
  },
  {
   "cell_type": "code",
   "execution_count": null,
   "id": "d4d20294",
   "metadata": {},
   "outputs": [],
   "source": [
    "def perceptron(data: list, it: int, s: int) -> list:\n",
    "    \"\"\"\n",
    "    Args:\n",
    "        data: list of list, [[x, y], ...]\n",
    "        it: number of iterations\n",
    "        s: start of data points\n",
    "    Output:\n",
    "        theta\n",
    "    \"\"\"\n",
    "    \n",
    "    m, n = len(data), len(data[0][0])\n",
    "#    theta = np.zeros((1, n))\n",
    "#    theta0 = 0\n",
    "    theta, theta0 = [-3, 2], -4\n",
    "    mistakes = 0\n",
    "    \n",
    "    for t in range(it):\n",
    "        for i in range(m):\n",
    "            x, y = np.asarray(data[(i + s) % m][0]), np.asarray(data[(i + s) % m][1])\n",
    "            \n",
    "            print(\"Iteration #{}\".format(t + 1))\n",
    "            print(\"Data      #{}\".format(i))\n",
    "            print(\"x = {}, y = {}\".format(x, y))\n",
    "            print(\"theta = {}, theta0 = {}\".format(theta, theta0))\n",
    "            print(\"totoal mistakes = {}\".format(mistakes))\n",
    "            print(\"-------------------------------\\n\")\n",
    "            \n",
    "            if y * (np.dot(theta, x) + theta0) <= 0:\n",
    "                theta = theta + y * x\n",
    "                theta0 = theta0 + y\n",
    "                mistakes += 1\n",
    "                \n",
    "    return theta, theta0"
   ]
  },
  {
   "cell_type": "code",
   "execution_count": null,
   "id": "feefb776",
   "metadata": {},
   "outputs": [],
   "source": [
    "data2 = [[[-4, 2], 1], [[-2, 1], 1], [[-1, -1], -1], [[2, 2], -1], [[1, -2], -1]]\n",
    "perceptron(data2, 20, 0)"
   ]
  },
  {
   "cell_type": "code",
   "execution_count": null,
   "id": "d44dae20",
   "metadata": {},
   "outputs": [],
   "source": [
    "data3 = [[[np.math.cos(math.pi), 0, 0], 1], [[0, math.cos(2*math.pi), 0], 1], [[0, 0, math.cos(3*math.pi)], 1]]\n",
    "perceptron_no_offset(data3, 5, 2)"
   ]
  },
  {
   "cell_type": "code",
   "execution_count": null,
   "id": "293ab515",
   "metadata": {},
   "outputs": [],
   "source": []
  }
 ],
 "metadata": {
  "kernelspec": {
   "display_name": "Python 3 (ipykernel)",
   "language": "python",
   "name": "python3"
  },
  "language_info": {
   "codemirror_mode": {
    "name": "ipython",
    "version": 3
   },
   "file_extension": ".py",
   "mimetype": "text/x-python",
   "name": "python",
   "nbconvert_exporter": "python",
   "pygments_lexer": "ipython3",
   "version": "3.7.3"
  }
 },
 "nbformat": 4,
 "nbformat_minor": 5
}
